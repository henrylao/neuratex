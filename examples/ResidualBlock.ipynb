{
 "cells": [
  {
   "cell_type": "code",
   "execution_count": 2,
   "id": "33a05ad5",
   "metadata": {
    "ExecuteTime": {
     "end_time": "2022-06-23T10:58:40.704511Z",
     "start_time": "2022-06-23T10:58:40.644929Z"
    }
   },
   "outputs": [
    {
     "ename": "NameError",
     "evalue": "name 'to_node' is not defined",
     "output_type": "error",
     "traceback": [
      "\u001b[0;31m---------------------------------------------------------------------------\u001b[0m",
      "\u001b[0;31mNameError\u001b[0m                                 Traceback (most recent call last)",
      "Input \u001b[0;32mIn [2]\u001b[0m, in \u001b[0;36m<cell line: 10>\u001b[0;34m()\u001b[0m\n\u001b[1;32m      6\u001b[0m \u001b[38;5;28;01mfrom\u001b[39;00m \u001b[38;5;21;01mnnviz\u001b[39;00m\u001b[38;5;21;01m.\u001b[39;00m\u001b[38;5;21;01mtikzeng\u001b[39;00m \u001b[38;5;28;01mimport\u001b[39;00m \u001b[38;5;241m*\u001b[39m\n\u001b[1;32m      7\u001b[0m \u001b[38;5;28;01mfrom\u001b[39;00m \u001b[38;5;21;01mnnviz\u001b[39;00m\u001b[38;5;21;01m.\u001b[39;00m\u001b[38;5;21;01mblocks\u001b[39;00m  \u001b[38;5;28;01mimport\u001b[39;00m \u001b[38;5;241m*\u001b[39m\n\u001b[1;32m      9\u001b[0m arch \u001b[38;5;241m=\u001b[39m [\n\u001b[1;32m     10\u001b[0m     to_head( \u001b[38;5;124m'\u001b[39m\u001b[38;5;124m../\u001b[39m\u001b[38;5;124m'\u001b[39m ),\n\u001b[1;32m     11\u001b[0m     to_cor(),\n\u001b[1;32m     12\u001b[0m     to_begin(),\n\u001b[1;32m     13\u001b[0m \n\u001b[1;32m     14\u001b[0m     \u001b[38;5;66;03m# 输入图像 input image\u001b[39;00m\n\u001b[1;32m     15\u001b[0m     \u001b[38;5;66;03m# to_input( '../examples/fcn8s/cats.jpg' ),\u001b[39;00m\n\u001b[1;32m     16\u001b[0m \n\u001b[1;32m     17\u001b[0m     \u001b[38;5;66;03m# block-1\u001b[39;00m\n\u001b[1;32m     18\u001b[0m     \u001b[38;5;66;03m# to_Conv(\"conv1\", 24, 64, offset=\"(0,0,0)\", to=\"(0,0,0)\", height=24, depth=24, width=2 ),\u001b[39;00m\n\u001b[0;32m---> 19\u001b[0m     \u001b[43mto_node\u001b[49m(name\u001b[38;5;241m=\u001b[39m\u001b[38;5;124m\"\u001b[39m\u001b[38;5;124mnode1\u001b[39m\u001b[38;5;124m\"\u001b[39m, offset\u001b[38;5;241m=\u001b[39m\u001b[38;5;124m\"\u001b[39m\u001b[38;5;124m(0,0,0)\u001b[39m\u001b[38;5;124m\"\u001b[39m, to\u001b[38;5;241m=\u001b[39m\u001b[38;5;124m\"\u001b[39m\u001b[38;5;124m(0,0,0)\u001b[39m\u001b[38;5;124m\"\u001b[39m,radius\u001b[38;5;241m=\u001b[39m\u001b[38;5;241m0.001\u001b[39m, opacity\u001b[38;5;241m=\u001b[39m\u001b[38;5;241m0\u001b[39m, logo\u001b[38;5;241m=\u001b[39m\u001b[38;5;124m\"\u001b[39m\u001b[38;5;124m \u001b[39m\u001b[38;5;124m\"\u001b[39m ),\n\u001b[1;32m     20\u001b[0m \n\u001b[1;32m     21\u001b[0m     \u001b[38;5;66;03m# block-2 resblock1\u001b[39;00m\n\u001b[1;32m     22\u001b[0m     to_Conv(\u001b[38;5;124m\"\u001b[39m\u001b[38;5;124mres1_conv1\u001b[39m\u001b[38;5;124m\"\u001b[39m, \u001b[38;5;241m24\u001b[39m, \u001b[38;5;241m64\u001b[39m, offset\u001b[38;5;241m=\u001b[39m\u001b[38;5;124m\"\u001b[39m\u001b[38;5;124m(3,0,0)\u001b[39m\u001b[38;5;124m\"\u001b[39m, to\u001b[38;5;241m=\u001b[39m\u001b[38;5;124m\"\u001b[39m\u001b[38;5;124m(node1-east)\u001b[39m\u001b[38;5;124m\"\u001b[39m, height\u001b[38;5;241m=\u001b[39m\u001b[38;5;241m24\u001b[39m, depth\u001b[38;5;241m=\u001b[39m\u001b[38;5;241m24\u001b[39m, width\u001b[38;5;241m=\u001b[39m\u001b[38;5;241m2\u001b[39m, caption\u001b[38;5;241m=\u001b[39m\u001b[38;5;124m\"\u001b[39m\u001b[38;5;124mConv1\u001b[39m\u001b[38;5;124m\"\u001b[39m  ),\n\u001b[1;32m     23\u001b[0m     to_Pool(name\u001b[38;5;241m=\u001b[39m\u001b[38;5;124m\"\u001b[39m\u001b[38;5;124mres1_relu\u001b[39m\u001b[38;5;124m\"\u001b[39m, offset\u001b[38;5;241m=\u001b[39m\u001b[38;5;124m\"\u001b[39m\u001b[38;5;124m(1.5,0,0)\u001b[39m\u001b[38;5;124m\"\u001b[39m, to\u001b[38;5;241m=\u001b[39m\u001b[38;5;124m\"\u001b[39m\u001b[38;5;124m(res1_conv1-east)\u001b[39m\u001b[38;5;124m\"\u001b[39m, width\u001b[38;5;241m=\u001b[39m\u001b[38;5;241m1\u001b[39m, height\u001b[38;5;241m=\u001b[39m\u001b[38;5;241m24\u001b[39m, depth\u001b[38;5;241m=\u001b[39m\u001b[38;5;241m24\u001b[39m, opacity\u001b[38;5;241m=\u001b[39m\u001b[38;5;241m0.5\u001b[39m, caption\u001b[38;5;241m=\u001b[39m\u001b[38;5;124m\"\u001b[39m\u001b[38;5;124mReLU\u001b[39m\u001b[38;5;124m\"\u001b[39m ),\n\u001b[1;32m     24\u001b[0m     to_Conv(\u001b[38;5;124m\"\u001b[39m\u001b[38;5;124mres1_conv2\u001b[39m\u001b[38;5;124m\"\u001b[39m, \u001b[38;5;241m24\u001b[39m, \u001b[38;5;241m64\u001b[39m, offset\u001b[38;5;241m=\u001b[39m\u001b[38;5;124m\"\u001b[39m\u001b[38;5;124m(1.5,0,0)\u001b[39m\u001b[38;5;124m\"\u001b[39m, to\u001b[38;5;241m=\u001b[39m\u001b[38;5;124m\"\u001b[39m\u001b[38;5;124m(res1_relu-east)\u001b[39m\u001b[38;5;124m\"\u001b[39m,height\u001b[38;5;241m=\u001b[39m\u001b[38;5;241m24\u001b[39m, depth\u001b[38;5;241m=\u001b[39m\u001b[38;5;241m24\u001b[39m, width\u001b[38;5;241m=\u001b[39m\u001b[38;5;241m2\u001b[39m, caption\u001b[38;5;241m=\u001b[39m\u001b[38;5;124m\"\u001b[39m\u001b[38;5;124mConv2\u001b[39m\u001b[38;5;124m\"\u001b[39m ),\n\u001b[1;32m     25\u001b[0m     to_node(name\u001b[38;5;241m=\u001b[39m\u001b[38;5;124m\"\u001b[39m\u001b[38;5;124mres1_sum\u001b[39m\u001b[38;5;124m\"\u001b[39m, offset\u001b[38;5;241m=\u001b[39m\u001b[38;5;124m\"\u001b[39m\u001b[38;5;124m(1.5,0,0)\u001b[39m\u001b[38;5;124m\"\u001b[39m, to\u001b[38;5;241m=\u001b[39m\u001b[38;5;124m\"\u001b[39m\u001b[38;5;124m(res1_conv2-east)\u001b[39m\u001b[38;5;124m\"\u001b[39m,radius\u001b[38;5;241m=\u001b[39m\u001b[38;5;241m1.8\u001b[39m, opacity\u001b[38;5;241m=\u001b[39m\u001b[38;5;241m0.8\u001b[39m, logo\u001b[38;5;241m=\u001b[39m\u001b[38;5;124m\"\u001b[39m\u001b[38;5;124m+\u001b[39m\u001b[38;5;124m\"\u001b[39m, caption\u001b[38;5;241m=\u001b[39m\u001b[38;5;124m\"\u001b[39m\u001b[38;5;124m+\u001b[39m\u001b[38;5;124m\"\u001b[39m ),\n\u001b[1;32m     26\u001b[0m \n\u001b[1;32m     27\u001b[0m     to_node(name\u001b[38;5;241m=\u001b[39m\u001b[38;5;124m\"\u001b[39m\u001b[38;5;124mres1_node1\u001b[39m\u001b[38;5;124m\"\u001b[39m, offset\u001b[38;5;241m=\u001b[39m\u001b[38;5;124m\"\u001b[39m\u001b[38;5;124m(2,0,0)\u001b[39m\u001b[38;5;124m\"\u001b[39m, to\u001b[38;5;241m=\u001b[39m\u001b[38;5;124m\"\u001b[39m\u001b[38;5;124m(node1-east)\u001b[39m\u001b[38;5;124m\"\u001b[39m,radius\u001b[38;5;241m=\u001b[39m\u001b[38;5;241m0.001\u001b[39m, opacity\u001b[38;5;241m=\u001b[39m\u001b[38;5;241m0\u001b[39m, logo\u001b[38;5;241m=\u001b[39m\u001b[38;5;124m\"\u001b[39m\u001b[38;5;124m \u001b[39m\u001b[38;5;124m\"\u001b[39m ),\n\u001b[1;32m     28\u001b[0m     to_node(name\u001b[38;5;241m=\u001b[39m\u001b[38;5;124m\"\u001b[39m\u001b[38;5;124mres1_node2\u001b[39m\u001b[38;5;124m\"\u001b[39m, offset\u001b[38;5;241m=\u001b[39m\u001b[38;5;124m\"\u001b[39m\u001b[38;5;124m(2,0,4)\u001b[39m\u001b[38;5;124m\"\u001b[39m, to\u001b[38;5;241m=\u001b[39m\u001b[38;5;124m\"\u001b[39m\u001b[38;5;124m(node1-east)\u001b[39m\u001b[38;5;124m\"\u001b[39m,radius\u001b[38;5;241m=\u001b[39m\u001b[38;5;241m0.001\u001b[39m, opacity\u001b[38;5;241m=\u001b[39m\u001b[38;5;241m0\u001b[39m, logo\u001b[38;5;241m=\u001b[39m\u001b[38;5;124m\"\u001b[39m\u001b[38;5;124m \u001b[39m\u001b[38;5;124m\"\u001b[39m ),\n\u001b[1;32m     29\u001b[0m     to_node(name\u001b[38;5;241m=\u001b[39m\u001b[38;5;124m\"\u001b[39m\u001b[38;5;124mres1_node3\u001b[39m\u001b[38;5;124m\"\u001b[39m, offset\u001b[38;5;241m=\u001b[39m\u001b[38;5;124m\"\u001b[39m\u001b[38;5;124m(1.5,0,4)\u001b[39m\u001b[38;5;124m\"\u001b[39m, to\u001b[38;5;241m=\u001b[39m\u001b[38;5;124m\"\u001b[39m\u001b[38;5;124m(res1_conv2-east)\u001b[39m\u001b[38;5;124m\"\u001b[39m,radius\u001b[38;5;241m=\u001b[39m\u001b[38;5;241m0.001\u001b[39m, opacity\u001b[38;5;241m=\u001b[39m\u001b[38;5;241m0\u001b[39m, logo\u001b[38;5;241m=\u001b[39m\u001b[38;5;124m\"\u001b[39m\u001b[38;5;124m \u001b[39m\u001b[38;5;124m\"\u001b[39m ),\n\u001b[1;32m     30\u001b[0m     to_node(name\u001b[38;5;241m=\u001b[39m\u001b[38;5;124m\"\u001b[39m\u001b[38;5;124mres1_node4\u001b[39m\u001b[38;5;124m\"\u001b[39m, offset\u001b[38;5;241m=\u001b[39m\u001b[38;5;124m\"\u001b[39m\u001b[38;5;124m(1.5,0,0)\u001b[39m\u001b[38;5;124m\"\u001b[39m, to\u001b[38;5;241m=\u001b[39m\u001b[38;5;124m\"\u001b[39m\u001b[38;5;124m(res1_conv2-east)\u001b[39m\u001b[38;5;124m\"\u001b[39m,radius\u001b[38;5;241m=\u001b[39m\u001b[38;5;241m0.001\u001b[39m, opacity\u001b[38;5;241m=\u001b[39m\u001b[38;5;241m0\u001b[39m, logo\u001b[38;5;241m=\u001b[39m\u001b[38;5;124m\"\u001b[39m\u001b[38;5;124m \u001b[39m\u001b[38;5;124m\"\u001b[39m ),\n\u001b[1;32m     31\u001b[0m \n\u001b[1;32m     32\u001b[0m     \u001b[38;5;66;03m# 折线 broken line\u001b[39;00m\n\u001b[1;32m     33\u001b[0m     to_connection_choose( \u001b[38;5;124m\"\u001b[39m\u001b[38;5;124mres1_node1-east\u001b[39m\u001b[38;5;124m\"\u001b[39m, \u001b[38;5;124m\"\u001b[39m\u001b[38;5;124mres1_node2-east\u001b[39m\u001b[38;5;124m\"\u001b[39m),\n\u001b[1;32m     34\u001b[0m     to_connection_choose( \u001b[38;5;124m\"\u001b[39m\u001b[38;5;124mres1_node2-east\u001b[39m\u001b[38;5;124m\"\u001b[39m, \u001b[38;5;124m\"\u001b[39m\u001b[38;5;124mres1_node3-east\u001b[39m\u001b[38;5;124m\"\u001b[39m),\n\u001b[1;32m     35\u001b[0m     to_connection_choose( \u001b[38;5;124m\"\u001b[39m\u001b[38;5;124mres1_node3-east\u001b[39m\u001b[38;5;124m\"\u001b[39m, \u001b[38;5;124m\"\u001b[39m\u001b[38;5;124mres1_node4-east\u001b[39m\u001b[38;5;124m\"\u001b[39m),\n\u001b[1;32m     36\u001b[0m \n\u001b[1;32m     37\u001b[0m     \u001b[38;5;66;03m# 直线 straight line\u001b[39;00m\n\u001b[1;32m     38\u001b[0m     to_connection( \u001b[38;5;124m\"\u001b[39m\u001b[38;5;124mnode1\u001b[39m\u001b[38;5;124m\"\u001b[39m, \u001b[38;5;124m\"\u001b[39m\u001b[38;5;124mres1_node1\u001b[39m\u001b[38;5;124m\"\u001b[39m),\n\u001b[1;32m     39\u001b[0m     to_connection( \u001b[38;5;124m\"\u001b[39m\u001b[38;5;124mres1_node1\u001b[39m\u001b[38;5;124m\"\u001b[39m, \u001b[38;5;124m\"\u001b[39m\u001b[38;5;124mres1_conv1\u001b[39m\u001b[38;5;124m\"\u001b[39m),\n\u001b[1;32m     40\u001b[0m     to_connection( \u001b[38;5;124m\"\u001b[39m\u001b[38;5;124mres1_conv1\u001b[39m\u001b[38;5;124m\"\u001b[39m, \u001b[38;5;124m\"\u001b[39m\u001b[38;5;124mres1_relu\u001b[39m\u001b[38;5;124m\"\u001b[39m),\n\u001b[1;32m     41\u001b[0m     to_connection( \u001b[38;5;124m\"\u001b[39m\u001b[38;5;124mres1_relu\u001b[39m\u001b[38;5;124m\"\u001b[39m, \u001b[38;5;124m\"\u001b[39m\u001b[38;5;124mres1_conv2\u001b[39m\u001b[38;5;124m\"\u001b[39m),\n\u001b[1;32m     42\u001b[0m     to_connection( \u001b[38;5;124m\"\u001b[39m\u001b[38;5;124mres1_conv2\u001b[39m\u001b[38;5;124m\"\u001b[39m, \u001b[38;5;124m\"\u001b[39m\u001b[38;5;124mres1_node4\u001b[39m\u001b[38;5;124m\"\u001b[39m),\n\u001b[1;32m     43\u001b[0m \n\u001b[1;32m     44\u001b[0m     \u001b[38;5;66;03m# block-3\u001b[39;00m\n\u001b[1;32m     45\u001b[0m     \u001b[38;5;66;03m# to_ConvRes( \"convres\", s_filer=256, n_filer=64, offset=\"(5,0,0)\", to=\"(res1_conv2-east)\", width=6, height=40, depth=40, opacity=0.2, caption=\" \" ),\u001b[39;00m\n\u001b[1;32m     46\u001b[0m     to_node(name\u001b[38;5;241m=\u001b[39m\u001b[38;5;124m\"\u001b[39m\u001b[38;5;124mnode2\u001b[39m\u001b[38;5;124m\"\u001b[39m, offset\u001b[38;5;241m=\u001b[39m\u001b[38;5;124m\"\u001b[39m\u001b[38;5;124m(3,0,0)\u001b[39m\u001b[38;5;124m\"\u001b[39m, to\u001b[38;5;241m=\u001b[39m\u001b[38;5;124m\"\u001b[39m\u001b[38;5;124m(res1_conv2-east)\u001b[39m\u001b[38;5;124m\"\u001b[39m,radius\u001b[38;5;241m=\u001b[39m\u001b[38;5;241m0.001\u001b[39m, opacity\u001b[38;5;241m=\u001b[39m\u001b[38;5;241m0\u001b[39m, logo\u001b[38;5;241m=\u001b[39m\u001b[38;5;124m\"\u001b[39m\u001b[38;5;124m \u001b[39m\u001b[38;5;124m\"\u001b[39m ),\n\u001b[1;32m     47\u001b[0m     to_connection( \u001b[38;5;124m\"\u001b[39m\u001b[38;5;124mres1_node4\u001b[39m\u001b[38;5;124m\"\u001b[39m, \u001b[38;5;124m\"\u001b[39m\u001b[38;5;124mnode2\u001b[39m\u001b[38;5;124m\"\u001b[39m),\n\u001b[1;32m     48\u001b[0m \n\u001b[1;32m     49\u001b[0m     \u001b[38;5;66;03m# to_node( \"sum\", offset=\"(10,0,0)\", to=\"(res1_conv2-east)\", radius=2.5, opacity=0.6, logo=\"+\"),\u001b[39;00m\n\u001b[1;32m     50\u001b[0m     \u001b[38;5;66;03m# to_connection( \"convres\", \"sum\"),\u001b[39;00m\n\u001b[1;32m     51\u001b[0m \n\u001b[1;32m     52\u001b[0m \n\u001b[1;32m     53\u001b[0m     to_end()\n\u001b[1;32m     54\u001b[0m     ]\n\u001b[1;32m     56\u001b[0m \u001b[38;5;28;01mdef\u001b[39;00m \u001b[38;5;21mmain\u001b[39m():\n\u001b[1;32m     57\u001b[0m \u001b[38;5;66;03m#     namefile = str(sys.argv[0]).split('.')[0]\u001b[39;00m\n\u001b[1;32m     58\u001b[0m     namefile \u001b[38;5;241m=\u001b[39m \u001b[38;5;124m\"\u001b[39m\u001b[38;5;124mresblock\u001b[39m\u001b[38;5;124m\"\u001b[39m\n",
      "\u001b[0;31mNameError\u001b[0m: name 'to_node' is not defined"
     ]
    }
   ],
   "source": [
    "# a res block image\n",
    "# china HUST CZY\n",
    "# 2019 - 12 -27\n",
    "import sys\n",
    "sys.path.append('../')\n",
    "from nnviz.tikzeng import *\n",
    "from nnviz.blocks  import *\n",
    "\n",
    "arch = [\n",
    "    to_head( '../' ),\n",
    "    to_cor(),\n",
    "    to_begin(),\n",
    "\n",
    "    # 输入图像 input image\n",
    "    # to_input( '../examples/fcn8s/cats.jpg' ),\n",
    "\n",
    "    # block-1\n",
    "    # to_Conv(\"conv1\", 24, 64, offset=\"(0,0,0)\", to=\"(0,0,0)\", height=24, depth=24, width=2 ),\n",
    "    to_node(name=\"node1\", offset=\"(0,0,0)\", to=\"(0,0,0)\",radius=0.001, opacity=0, logo=\" \" ),\n",
    "\n",
    "    # block-2 resblock1\n",
    "    to_Conv(\"res1_conv1\", 24, 64, offset=\"(3,0,0)\", to=\"(node1-east)\", height=24, depth=24, width=2, caption=\"Conv1\"  ),\n",
    "    to_Pool(name=\"res1_relu\", offset=\"(1.5,0,0)\", to=\"(res1_conv1-east)\", width=1, height=24, depth=24, opacity=0.5, caption=\"ReLU\" ),\n",
    "    to_Conv(\"res1_conv2\", 24, 64, offset=\"(1.5,0,0)\", to=\"(res1_relu-east)\",height=24, depth=24, width=2, caption=\"Conv2\" ),\n",
    "    to_node(name=\"res1_sum\", offset=\"(1.5,0,0)\", to=\"(res1_conv2-east)\",radius=1.8, opacity=0.8, logo=\"+\", caption=\"+\" ),\n",
    "\n",
    "    to_node(name=\"res1_node1\", offset=\"(2,0,0)\", to=\"(node1-east)\",radius=0.001, opacity=0, logo=\" \" ),\n",
    "    to_node(name=\"res1_node2\", offset=\"(2,0,4)\", to=\"(node1-east)\",radius=0.001, opacity=0, logo=\" \" ),\n",
    "    to_node(name=\"res1_node3\", offset=\"(1.5,0,4)\", to=\"(res1_conv2-east)\",radius=0.001, opacity=0, logo=\" \" ),\n",
    "    to_node(name=\"res1_node4\", offset=\"(1.5,0,0)\", to=\"(res1_conv2-east)\",radius=0.001, opacity=0, logo=\" \" ),\n",
    "\n",
    "    # 折线 broken line\n",
    "    to_connection_choose( \"res1_node1-east\", \"res1_node2-east\"),\n",
    "    to_connection_choose( \"res1_node2-east\", \"res1_node3-east\"),\n",
    "    to_connection_choose( \"res1_node3-east\", \"res1_node4-east\"),\n",
    "\n",
    "    # 直线 straight line\n",
    "    to_connection( \"node1\", \"res1_node1\"),\n",
    "    to_connection( \"res1_node1\", \"res1_conv1\"),\n",
    "    to_connection( \"res1_conv1\", \"res1_relu\"),\n",
    "    to_connection( \"res1_relu\", \"res1_conv2\"),\n",
    "    to_connection( \"res1_conv2\", \"res1_node4\"),\n",
    "\n",
    "    # block-3\n",
    "    # to_ConvRes( \"convres\", s_filer=256, n_filer=64, offset=\"(5,0,0)\", to=\"(res1_conv2-east)\", width=6, height=40, depth=40, opacity=0.2, caption=\" \" ),\n",
    "    to_node(name=\"node2\", offset=\"(3,0,0)\", to=\"(res1_conv2-east)\",radius=0.001, opacity=0, logo=\" \" ),\n",
    "    to_connection( \"res1_node4\", \"node2\"),\n",
    "\n",
    "    # to_node( \"sum\", offset=\"(10,0,0)\", to=\"(res1_conv2-east)\", radius=2.5, opacity=0.6, logo=\"+\"),\n",
    "    # to_connection( \"convres\", \"sum\"),\n",
    "\n",
    "\n",
    "    to_end()\n",
    "    ]\n",
    "\n",
    "def main():\n",
    "#     namefile = str(sys.argv[0]).split('.')[0]\n",
    "    namefile = \"resblock\"\n",
    "    to_generate(arch, namefile + '.tex' )\n",
    "    os.system(\"pdflatex {}\".format(namefile +\".tex\"))\n",
    "    \n",
    "if __name__ == '__main__':\n",
    "    main()"
   ]
  },
  {
   "cell_type": "code",
   "execution_count": null,
   "id": "31b44c60",
   "metadata": {},
   "outputs": [],
   "source": []
  }
 ],
 "metadata": {
  "kernelspec": {
   "display_name": "Python 3 (ipykernel)",
   "language": "python",
   "name": "python3"
  },
  "language_info": {
   "codemirror_mode": {
    "name": "ipython",
    "version": 3
   },
   "file_extension": ".py",
   "mimetype": "text/x-python",
   "name": "python",
   "nbconvert_exporter": "python",
   "pygments_lexer": "ipython3",
   "version": "3.9.12"
  },
  "toc": {
   "base_numbering": 1,
   "nav_menu": {},
   "number_sections": true,
   "sideBar": true,
   "skip_h1_title": false,
   "title_cell": "Table of Contents",
   "title_sidebar": "Contents",
   "toc_cell": false,
   "toc_position": {},
   "toc_section_display": true,
   "toc_window_display": false
  }
 },
 "nbformat": 4,
 "nbformat_minor": 5
}
